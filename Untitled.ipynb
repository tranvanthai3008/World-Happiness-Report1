{
 "cells": [
  {
   "cell_type": "code",
   "execution_count": 2,
   "id": "edeae480",
   "metadata": {},
   "outputs": [
    {
     "ename": "SyntaxError",
     "evalue": "invalid syntax (1713049404.py, line 2)",
     "output_type": "error",
     "traceback": [
      "\u001b[1;36m  Input \u001b[1;32mIn [2]\u001b[1;36m\u001b[0m\n\u001b[1;33m    pip install geopandas\u001b[0m\n\u001b[1;37m        ^\u001b[0m\n\u001b[1;31mSyntaxError\u001b[0m\u001b[1;31m:\u001b[0m invalid syntax\n"
     ]
    }
   ],
   "source": [
    "# Загрузить необходимые пакеты для работы\n",
    "!pip install geopandas\n",
    "!pip install pandas \n",
    "!pip install jupyter_bokeh\n",
    "# Импорт библиотеки для работы\n",
    "import geopandas as gpd \n",
    "import pandas as pd \n",
    "import json \n",
    "import glob \n",
    "import os \n",
    "import numpy as np\n",
    "import requests\n",
    "from ipywidgets import interact \n",
    "from bokeh.resources import INLINE \n",
    "from bokeh.io import output_notebook, show, push_notebook\n",
    "from bokeh.plotting import figure \n",
    "from bokeh.models import GeoJSONDataSource, LinearColorMapper, ColorBar \n",
    "from bokeh.palettes import brewer,mpl\n",
    "from bokeh.io import curdoc, output_notebook \n",
    "from bokeh.models import Slider, HoverTool,CustomJS \n",
    "from bokeh.layouts import widgetbox, row, column\n",
    "from bokeh.application import Application\n",
    "from bokeh.application.handlers import FunctionHandler\n",
    "output_notebook()\n"
   ]
  }
 ],
 "metadata": {
  "kernelspec": {
   "display_name": "Python 3 (ipykernel)",
   "language": "python",
   "name": "python3"
  },
  "language_info": {
   "codemirror_mode": {
    "name": "ipython",
    "version": 3
   },
   "file_extension": ".py",
   "mimetype": "text/x-python",
   "name": "python",
   "nbconvert_exporter": "python",
   "pygments_lexer": "ipython3",
   "version": "3.9.7"
  }
 },
 "nbformat": 4,
 "nbformat_minor": 5
}
